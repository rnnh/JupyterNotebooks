{
 "cells": [
  {
   "cell_type": "markdown",
   "metadata": {},
   "source": [
    "# Hénon map\n",
    "\n",
    "The Hénon map takes a point $(x_{n}, y_{n})$ in the plane and maps it to a new point as follows:\n",
    "\n",
    "$x_{n+1} = 1 - a(x_{n})^2 + y_{n}$\n",
    "\n",
    "$y_{n+1} = bx_{n}$\n",
    "\n",
    "The map depends on two parameters, $a$ and $b$, which for the classical Hénon map have values of $a = 1.4$ and $b = 0.3$."
   ]
  },
  {
   "cell_type": "code",
   "execution_count": 1,
   "metadata": {},
   "outputs": [
    {
     "data": {
      "text/plain": [
       "[[0, 0],\n",
       " [1.0, 0.0],\n",
       " [-0.3999999999999999, 0.3],\n",
       " [1.076, -0.11999999999999997],\n",
       " [-0.7408864000000001, 0.32280000000000003],\n",
       " [0.554322279213056, -0.22226592],\n",
       " [0.3475516150752599, 0.1662966837639168],\n",
       " [0.9971877085659265, 0.10426548452257796],\n",
       " [-0.2878711720383706, 0.2991563125697779],\n",
       " [1.1831385762027349, -0.08636135161151118]]"
      ]
     },
     "execution_count": 1,
     "metadata": {},
     "output_type": "execute_result"
    }
   ],
   "source": [
    "# Importing libraries\n",
    "import matplotlib.pyplot as plt\n",
    "from ipywidgets import interact\n",
    "import numpy as np\n",
    "\n",
    "# Function to define the Hénon sequence\n",
    "def henon_sequence(N, a = 1.4, b = 0.3):\n",
    "    # Returns the first N pairs of the Hénon sequence\n",
    "    sequence = [[0, 0]]\n",
    "    for i in range(1, N):\n",
    "        previous_pair = sequence[i - 1]\n",
    "        previous_x = previous_pair[0]\n",
    "        previous_y = previous_pair[1]\n",
    "        next_x = 1 - a * (previous_x ** 2) + previous_y\n",
    "        next_y = b * previous_x\n",
    "        next_pair = [next_x, next_y]\n",
    "        sequence += [next_pair]\n",
    "    return sequence\n",
    "\n",
    "# Testing function by printing first 10 Hénon points\n",
    "henon_sequence(10)"
   ]
  },
  {
   "cell_type": "code",
   "execution_count": 2,
   "metadata": {},
   "outputs": [
    {
     "data": {
      "text/plain": [
       "Text(0, 0.5, 'y')"
      ]
     },
     "execution_count": 2,
     "metadata": {},
     "output_type": "execute_result"
    },
    {
     "data": {
      "image/png": "[encoded data removed]",
      "text/plain": [
       "<Figure size 432x288 with 1 Axes>"
      ]
     },
     "metadata": {
      "needs_background": "light"
     },
     "output_type": "display_data"
    }
   ],
   "source": [
    "# Plotting a Hénon map with 1000 pairs\n",
    "henon_plot = np.array(henon_sequence(1000))\n",
    "plt.plot(henon_plot[:,0], henon_plot[:,1], 'r.')\n",
    "plt.xlabel(\"x\")\n",
    "plt.ylabel(\"y\")"
   ]
  },
  {
   "cell_type": "code",
   "execution_count": 3,
   "metadata": {},
   "outputs": [
    {
     "data": {
      "application/vnd.jupyter.widget-view+json": {
       "model_id": "67070a967dd6482482fad97c8506d161",
       "version_major": 2,
       "version_minor": 0
      },
      "text/plain": [
       "interactive(children=(FloatSlider(value=1.4, description='a', max=1.4, step=0.02), FloatSlider(value=0.3, desc…"
      ]
     },
     "metadata": {},
     "output_type": "display_data"
    }
   ],
   "source": [
    "# Plotting a Hénon map with 1000 pairs, and interactive sliders for \"a\" and \"b\"\n",
    "@interact(a = (0, 1.4, 0.02), b = (0,0.3, 0.01))\n",
    "def interactive_henon_plot(a = 1.4, b = 0.3):\n",
    "    # This function plots the first 1000 values of the Henon sequence,\n",
    "    # with sliders to control the \"a\" and \"b\" values\n",
    "    henon_array = np.array(henon_sequence(1000, a, b))\n",
    "    plt.plot(henon_array[:,0], henon_array[:,1], 'r.')\n",
    "    plt.xlabel(\"x\")\n",
    "    plt.ylabel(\"y\")\n",
    "    plt.show()"
   ]
  }
 ],
 "metadata": {
  "kernelspec": {
   "display_name": "Python 3",
   "language": "python",
   "name": "python3"
  },
  "language_info": {
   "codemirror_mode": {
    "name": "ipython",
    "version": 3
   },
   "file_extension": ".py",
   "mimetype": "text/x-python",
   "name": "python",
   "nbconvert_exporter": "python",
   "pygments_lexer": "ipython3",
   "version": "3.7.7"
  }
 },
 "nbformat": 4,
 "nbformat_minor": 4
}
